{
 "cells": [
  {
   "cell_type": "code",
   "execution_count": null,
   "metadata": {},
   "outputs": [],
   "source": [
    "# 1. Install dependensi\n",
    "%pip install langchain_community replicate pandas scikit-learn matplotlib"
   ]
  },
  {
   "cell_type": "code",
   "execution_count": null,
   "metadata": {},
   "outputs": [],
   "source": [
    "# 2. Import library\n",
    "import os\n",
    "from getpass import getpass\n",
    "import pandas as pd\n",
    "import matplotlib.pyplot as plt\n",
    "from sklearn.metrics import accuracy_score, confusion_matrix, ConfusionMatrixDisplay\n",
    "from langchain_community.llms import Replicate\n",
    "import seaborn as sns"
   ]
  },
  {
   "cell_type": "code",
   "execution_count": null,
   "metadata": {},
   "outputs": [],
   "source": [
    "# 3. Setup API Token Replicate\n",
    "api_token = os.environ.get(\"REPLICATE_API_TOKEN\")\n",
    "if not api_token:\n",
    "    api_token = getpass(\"Masukkan API Token Replicate (disembunyikan): \").strip()\n",
    "    os.environ[\"REPLICATE_API_TOKEN\"] = api_token"
   ]
  },
  {
   "cell_type": "code",
   "execution_count": null,
   "metadata": {},
   "outputs": [],
   "source": [
    "# 4. Load Dataset dari Lokal\n",
    "csv_path = \"IMDB Dataset.csv\"\n",
    "\n",
    "df = pd.read_csv(csv_path)\n",
    "\n",
    "print(\"Jumlah data:\", len(df))\n",
    "print(df.head())"
   ]
  },
  {
   "cell_type": "code",
   "execution_count": null,
   "metadata": {},
   "outputs": [],
   "source": [
    "# 4,1. Mount Google Drive (untuk akses CSV) Jika di Google Collab\n",
    "# from google.colab import drive\n",
    "# drive.mount('/content/drive')"
   ]
  },
  {
   "cell_type": "code",
   "execution_count": null,
   "metadata": {},
   "outputs": [],
   "source": [
    "# 4,2. Load Dataset dari Google Drive (Jika Menggunakan Google Collab)\n",
    "# csv_path = \"/content/drive/MyDrive/IMDB Dataset.csv\"\n",
    "# df = pd.read_csv(csv_path)\n",
    "\n",
    "# print(\"Jumlah data:\", len(df))\n",
    "# print(df.head())"
   ]
  },
  {
   "cell_type": "code",
   "execution_count": null,
   "metadata": {},
   "outputs": [],
   "source": [
    "# 5. Setup Granite Model\n",
    "model = \"ibm-granite/granite-3.3-8b-instruct\"\n",
    "client = Replicate(model=model, replicate_api_token=api_token)\n",
    "\n",
    "def classify_review(text: str) -> str:\n",
    "    \"\"\"Panggil Granite API untuk klasifikasi sentimen review\"\"\"\n",
    "    prompt = f\"\"\"\n",
    "    Klasifikasikan ulasan film berikut sebagai Positive atau Negative.\n",
    "    Hanya jawab dengan salah satu kata: Positive atau Negative.\n",
    "\n",
    "    Review:\n",
    "    {text}\n",
    "    \"\"\"\n",
    "    try:\n",
    "        response = client.invoke(prompt)\n",
    "        return response.strip().capitalize()\n",
    "    except Exception as e:\n",
    "        return f\"[ERROR] {e}\""
   ]
  },
  {
   "cell_type": "code",
   "execution_count": null,
   "metadata": {},
   "outputs": [],
   "source": [
    "# 6. Ambil Sample Data untuk Uji\n",
    "sample_df = df.sample(100, random_state=42).reset_index(drop=True)\n",
    "\n",
    "y_true = []\n",
    "y_pred = []\n",
    "\n",
    "for i, row in sample_df.iterrows():\n",
    "    review = row[\"review\"]\n",
    "    true_label = row[\"sentiment\"].capitalize()\n",
    "    pred_label = classify_review(review)\n",
    "\n",
    "    y_true.append(true_label)\n",
    "    y_pred.append(pred_label)\n",
    "\n",
    "    print(f\"[{i+1}] True: {true_label} | Pred: {pred_label}\")"
   ]
  },
  {
   "cell_type": "code",
   "execution_count": null,
   "metadata": {},
   "outputs": [],
   "source": [
    "# 7. Evaluasi: Confusion Matrix & Classification Report\n",
    "cm = confusion_matrix(y_true, y_pred, labels=[\"Positive\", \"Negative\"])\n",
    "disp = ConfusionMatrixDisplay(confusion_matrix=cm, display_labels=[\"Positive\", \"Negative\"])\n",
    "disp.plot(cmap=\"Blues\")\n",
    "plt.title(\"Confusion Matrix Granite\")\n",
    "plt.show()\n",
    "\n",
    "print(\"\\nClassification Report:\\n\")\n",
    "print(classification_report(y_true, y_pred))"
   ]
  },
  {
   "cell_type": "code",
   "execution_count": null,
   "metadata": {},
   "outputs": [],
   "source": [
    "# 8. Distribusi Prediksi\n",
    "pred_counts = pd.Series(y_pred).value_counts()\n",
    "sns.barplot(x=pred_counts.index, y=pred_counts.values)\n",
    "plt.title(\"Distribusi Prediksi Sentimen (Granite)\")\n",
    "plt.xlabel(\"Sentiment\")\n",
    "plt.ylabel(\"Jumlah\")\n",
    "plt.show()"
   ]
  }
 ],
 "metadata": {
  "language_info": {
   "name": "python"
  },
  "orig_nbformat": 4
 },
 "nbformat": 4,
 "nbformat_minor": 2
}
